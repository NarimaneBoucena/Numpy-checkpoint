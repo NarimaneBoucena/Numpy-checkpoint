{
 "cells": [
  {
   "cell_type": "code",
   "execution_count": 1,
   "id": "afeb6d44",
   "metadata": {},
   "outputs": [
    {
     "name": "stdout",
     "output_type": "stream",
     "text": [
      "[[6, 4], [3, 7], [3, 2]]\n"
     ]
    }
   ],
   "source": [
    "#qst1\n",
    "import numpy as np\n",
    "x=array=np.array([[6,4],[3,7],[3,2]])\n",
    "list=array.tolist()\n",
    "print(list)\n"
   ]
  },
  {
   "cell_type": "code",
   "execution_count": 2,
   "id": "b2cfe721",
   "metadata": {},
   "outputs": [
    {
     "data": {
      "text/plain": [
       "13"
      ]
     },
     "execution_count": 2,
     "metadata": {},
     "output_type": "execute_result"
    }
   ],
   "source": [
    "\n",
    "#qst2\n",
    "array.trace()\n"
   ]
  },
  {
   "cell_type": "code",
   "execution_count": 3,
   "id": "58413c94",
   "metadata": {},
   "outputs": [
    {
     "name": "stdout",
     "output_type": "stream",
     "text": [
      "numbers greater than 5:  [6 7]\n"
     ]
    }
   ],
   "source": [
    "#qst3\n",
    "print(\"numbers greater than 5: \" ,array[array>5] )\n"
   ]
  },
  {
   "cell_type": "code",
   "execution_count": 4,
   "id": "282e33dc",
   "metadata": {},
   "outputs": [
    {
     "name": "stdout",
     "output_type": "stream",
     "text": [
      "[[ 4  7]\n",
      " [ 6 11]]\n"
     ]
    }
   ],
   "source": [
    "#qst4 (doing it manually )\n",
    "array1=np.array([[2,2],[3,7]])\n",
    "array2=np.array([[2,5],[3,4]])\n",
    "array3=array1+array2\n",
    "print(array3)\n"
   ]
  },
  {
   "cell_type": "code",
   "execution_count": 5,
   "id": "593fa56f",
   "metadata": {},
   "outputs": [
    {
     "name": "stdout",
     "output_type": "stream",
     "text": [
      "[4.         4.33333333]\n",
      "[[6 4]\n",
      " [3 7]\n",
      " [3 2]]\n"
     ]
    }
   ],
   "source": [
    "#qst5\n",
    "print(np.mean(array, axis=0))\n",
    "print(array)"
   ]
  },
  {
   "cell_type": "code",
   "execution_count": null,
   "id": "b5712a4a",
   "metadata": {},
   "outputs": [],
   "source": []
  }
 ],
 "metadata": {
  "kernelspec": {
   "display_name": "Python 3 (ipykernel)",
   "language": "python",
   "name": "python3"
  },
  "language_info": {
   "codemirror_mode": {
    "name": "ipython",
    "version": 3
   },
   "file_extension": ".py",
   "mimetype": "text/x-python",
   "name": "python",
   "nbconvert_exporter": "python",
   "pygments_lexer": "ipython3",
   "version": "3.9.12"
  }
 },
 "nbformat": 4,
 "nbformat_minor": 5
}
